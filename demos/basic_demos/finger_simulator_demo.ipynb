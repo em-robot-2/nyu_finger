{
 "cells": [
  {
   "cell_type": "code",
   "execution_count": 1,
   "metadata": {},
   "outputs": [],
   "source": [
    "import numpy as np"
   ]
  },
  {
   "cell_type": "code",
   "execution_count": 2,
   "metadata": {},
   "outputs": [],
   "source": [
    "from nyu_finger_sim.nyu_finger_simulator import  NYUFingerSimulator"
   ]
  },
  {
   "cell_type": "code",
   "execution_count": 3,
   "metadata": {},
   "outputs": [],
   "source": [
    "robot = NYUFingerSimulator()"
   ]
  },
  {
   "cell_type": "code",
   "execution_count": null,
   "metadata": {},
   "outputs": [],
   "source": [
    "# Small demo showing how to run a PD controller and simulate in a while-loop.\n",
    "\n",
    "P = 1.\n",
    "D = 0.05\n",
    "des_pos = np.array([0, -0.6, 1.2])\n",
    "\n",
    "while True:\n",
    "    # Get the current robot state.\n",
    "    q, v = robot.get_state()\n",
    "    \n",
    "    # PD Controller.\n",
    "    tau = P * (des_pos - q) - D * v\n",
    "    \n",
    "    # Send the robot state.\n",
    "    robot.send_joint_torque(tau)\n",
    "    \n",
    "    # This steps the simulator and waits for 1 ms.\n",
    "    robot.step()    "
   ]
  },
  {
   "cell_type": "code",
   "execution_count": null,
   "metadata": {},
   "outputs": [],
   "source": []
  }
 ],
 "metadata": {
  "kernelspec": {
   "display_name": "Python 3",
   "language": "python",
   "name": "python3"
  },
  "language_info": {
   "codemirror_mode": {
    "name": "ipython",
    "version": 3
   },
   "file_extension": ".py",
   "mimetype": "text/x-python",
   "name": "python",
   "nbconvert_exporter": "python",
   "pygments_lexer": "ipython3",
   "version": "3.6.9"
  }
 },
 "nbformat": 4,
 "nbformat_minor": 2
}
