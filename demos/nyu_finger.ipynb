{
 "cells": [
  {
   "cell_type": "code",
   "execution_count": 1,
   "metadata": {},
   "outputs": [],
   "source": "import time\nimport numpy as np\nfrom nyu_finger import py_nyu_finger\nfrom IPython.display import display, clear_output\n\nnp.set_printoptions(suppress=True, precision=3)"
  },
  {
   "cell_type": "code",
   "execution_count": 2,
   "metadata": {},
   "outputs": [],
   "source": "robot = py_nyu_finger.NYUFinger()\nrobot.initialize('enp5s0f1')"
  },
  {
   "cell_type": "code",
   "execution_count": 3,
   "metadata": {},
   "outputs": [
    {
     "name": "stdout",
     "output_type": "stream",
     "text": "interrupted!\n"
    }
   ],
   "source": "P = 1.0\nD = 0.05\n\ndes_pos = np.array([0., 0., 0.])\n\ntry:\n    while True:\n        robot.acquire_sensors()\n        pos = robot.get_joint_positions()\n        vel = robot.get_joint_velocities()\n\n        tau = P * (des_pos - pos) - D * vel\n\n        robot.send_target_joint_torque(tau)\n        time.sleep(0.001)\nexcept KeyboardInterrupt:\n    print('interrupted!')\n\n# Need to send zero torques. Otherwise the safety mode on the card kicks in\n# and the card goes into error mode.\nrobot.send_target_joint_torque(np.array([0., 0., 0.]))"
  },
  {
   "cell_type": "code",
   "execution_count": null,
   "metadata": {},
   "outputs": [],
   "source": ""
  }
 ],
 "metadata": {
  "kernelspec": {
   "display_name": "Python 2",
   "language": "python",
   "name": "python2"
  },
  "language_info": {
   "codemirror_mode": {
    "name": "ipython",
    "version": 2
   },
   "file_extension": ".py",
   "mimetype": "text/x-python",
   "name": "python",
   "nbconvert_exporter": "python",
   "pygments_lexer": "ipython2",
   "version": "2.7.12"
  }
 },
 "nbformat": 4,
 "nbformat_minor": 4
}
